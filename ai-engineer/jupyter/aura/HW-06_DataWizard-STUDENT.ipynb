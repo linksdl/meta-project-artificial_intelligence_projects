{
 "cells": [
  {
   "cell_type": "markdown",
   "metadata": {},
   "source": [
    "<img src=\"https://cmse.msu.edu/sites/_cmse/assets/Image/image001.png\"\n",
    "     alt=\"CMSE Grapical Image\"\n",
    "     style=\"float: right; margin-right: 10px;\" \n",
    "     height=\"164\" \n",
    "     width=\"164\" />\n",
    "# __CMSE  201 - Fall 2019__\n",
    "    \n",
    "\n",
    "# Homework 6: Practicing all of your data fitting skills"
   ]
  },
  {
   "cell_type": "markdown",
   "metadata": {},
   "source": [
    "## Goals\n",
    "\n",
    "### By the end of the homework assignment you will have practiced:\n",
    "\n",
    "1. Fitting the properties of unfamiliar data using:\n",
    "    - `polyfit()`\n",
    "    - `curve_fit()`\n",
    "    - The Metropolis-Hastings MCMC algorithm\n",
    "2. Visualizing your results"
   ]
  },
  {
   "cell_type": "markdown",
   "metadata": {},
   "source": [
    "## Assignment instructions\n",
    "\n",
    "Work through the following assignment, making sure to follow all of the directions and answer all of the questions.\n",
    "\n",
    "**This assignment is due at 11:59pm on Friday, November 22** It should be uploaded into the \"Homework Assignments\" submission folder for Homework #6.  Submission instructions can be found at the end of the notebook."
   ]
  },
  {
   "cell_type": "markdown",
   "metadata": {},
   "source": [
    "## Grading\n",
    "\n",
    "* Question 1 (**2 points**)\n",
    "* Question 2 (**4 points**)\n",
    "* Question 3 (**2 points**)\n",
    "* Question 4 (**8 points**)\n",
    "* Question 5 (**4 points**)\n",
    "* Question 6 (**4 points**)\n",
    "* Question 7 (**8 points**)\n",
    "* Question 8 (**2 points**)\n",
    "* Question 9 (**1 point**)\n",
    "* Question 10 (**1 point**)\n",
    "* Question 11 (**12 points**)\n",
    "    \n",
    "**Total**: 48 points"
   ]
  },
  {
   "cell_type": "markdown",
   "metadata": {},
   "source": [
    "---\n",
    "# Becoming a data fitting wizard\n",
    "\n",
    "At this point in the semester, you've had the opportunity to test your ability to fit models to data and extract best fit parameters. For this assignment, you're going to practice these skills again! \n",
    "\n",
    "This time, you're going to be working with a top secret dataset and the origins of the values are classified. While this makes it a bit challenging to know exactly what the right model is, you're going to do your best and report back to the authorities that provided you with the data.\n",
    "\n",
    "So, **let's get to it!**\n",
    "\n",
    "The data file that you're going to be working is aptly named `mystery.csv` and you should have downloaded it from D2L along with this notebook. Again, since you don't have any idea exactly what this data represents, you're going to explore various models that might serve as good representations of the general trends within the data."
   ]
  },
  {
   "cell_type": "markdown",
   "metadata": {},
   "source": [
    "First things first -- time to load in the data! \n",
    "\n",
    "**Question 1 (2 points)**: Using either Pandas or NumPy, read the two columns in the data file into your python notebook and store the the first column as `x` and the second column as `y`."
   ]
  },
  {
   "cell_type": "code",
   "execution_count": 3,
   "metadata": {},
   "outputs": [
    {
     "data": {
      "text/html": [
       "<div>\n",
       "<style scoped>\n",
       "    .dataframe tbody tr th:only-of-type {\n",
       "        vertical-align: middle;\n",
       "    }\n",
       "\n",
       "    .dataframe tbody tr th {\n",
       "        vertical-align: top;\n",
       "    }\n",
       "\n",
       "    .dataframe thead th {\n",
       "        text-align: right;\n",
       "    }\n",
       "</style>\n",
       "<table border=\"1\" class=\"dataframe\">\n",
       "  <thead>\n",
       "    <tr style=\"text-align: right;\">\n",
       "      <th></th>\n",
       "      <th>x</th>\n",
       "      <th>y</th>\n",
       "    </tr>\n",
       "  </thead>\n",
       "  <tbody>\n",
       "    <tr>\n",
       "      <th>0</th>\n",
       "      <td>-1.809264</td>\n",
       "      <td>-3.193143</td>\n",
       "    </tr>\n",
       "    <tr>\n",
       "      <th>1</th>\n",
       "      <td>-2.052769</td>\n",
       "      <td>-4.197102</td>\n",
       "    </tr>\n",
       "    <tr>\n",
       "      <th>2</th>\n",
       "      <td>2.642235</td>\n",
       "      <td>-2.725068</td>\n",
       "    </tr>\n",
       "    <tr>\n",
       "      <th>3</th>\n",
       "      <td>-1.949070</td>\n",
       "      <td>-5.047449</td>\n",
       "    </tr>\n",
       "    <tr>\n",
       "      <th>4</th>\n",
       "      <td>3.506515</td>\n",
       "      <td>2.758897</td>\n",
       "    </tr>\n",
       "    <tr>\n",
       "      <th>5</th>\n",
       "      <td>-2.340561</td>\n",
       "      <td>-1.802808</td>\n",
       "    </tr>\n",
       "    <tr>\n",
       "      <th>6</th>\n",
       "      <td>3.593741</td>\n",
       "      <td>4.958850</td>\n",
       "    </tr>\n",
       "    <tr>\n",
       "      <th>7</th>\n",
       "      <td>-0.732412</td>\n",
       "      <td>-4.846446</td>\n",
       "    </tr>\n",
       "    <tr>\n",
       "      <th>8</th>\n",
       "      <td>0.400804</td>\n",
       "      <td>-2.538593</td>\n",
       "    </tr>\n",
       "    <tr>\n",
       "      <th>9</th>\n",
       "      <td>3.873790</td>\n",
       "      <td>3.396949</td>\n",
       "    </tr>\n",
       "    <tr>\n",
       "      <th>10</th>\n",
       "      <td>1.186902</td>\n",
       "      <td>-4.637137</td>\n",
       "    </tr>\n",
       "    <tr>\n",
       "      <th>11</th>\n",
       "      <td>3.883055</td>\n",
       "      <td>4.278784</td>\n",
       "    </tr>\n",
       "    <tr>\n",
       "      <th>12</th>\n",
       "      <td>-3.891079</td>\n",
       "      <td>3.552485</td>\n",
       "    </tr>\n",
       "    <tr>\n",
       "      <th>13</th>\n",
       "      <td>-0.414239</td>\n",
       "      <td>-6.401744</td>\n",
       "    </tr>\n",
       "    <tr>\n",
       "      <th>14</th>\n",
       "      <td>0.540289</td>\n",
       "      <td>-1.307924</td>\n",
       "    </tr>\n",
       "    <tr>\n",
       "      <th>15</th>\n",
       "      <td>2.504604</td>\n",
       "      <td>-1.897083</td>\n",
       "    </tr>\n",
       "    <tr>\n",
       "      <th>16</th>\n",
       "      <td>3.898011</td>\n",
       "      <td>5.010975</td>\n",
       "    </tr>\n",
       "    <tr>\n",
       "      <th>17</th>\n",
       "      <td>2.336695</td>\n",
       "      <td>-1.115576</td>\n",
       "    </tr>\n",
       "    <tr>\n",
       "      <th>18</th>\n",
       "      <td>0.771023</td>\n",
       "      <td>-4.022955</td>\n",
       "    </tr>\n",
       "    <tr>\n",
       "      <th>19</th>\n",
       "      <td>-0.569178</td>\n",
       "      <td>-5.669529</td>\n",
       "    </tr>\n",
       "    <tr>\n",
       "      <th>20</th>\n",
       "      <td>2.016319</td>\n",
       "      <td>0.228151</td>\n",
       "    </tr>\n",
       "    <tr>\n",
       "      <th>21</th>\n",
       "      <td>-1.797723</td>\n",
       "      <td>-3.659637</td>\n",
       "    </tr>\n",
       "    <tr>\n",
       "      <th>22</th>\n",
       "      <td>3.122867</td>\n",
       "      <td>0.979020</td>\n",
       "    </tr>\n",
       "    <tr>\n",
       "      <th>23</th>\n",
       "      <td>1.043554</td>\n",
       "      <td>-5.668747</td>\n",
       "    </tr>\n",
       "    <tr>\n",
       "      <th>24</th>\n",
       "      <td>1.951903</td>\n",
       "      <td>0.033878</td>\n",
       "    </tr>\n",
       "    <tr>\n",
       "      <th>25</th>\n",
       "      <td>3.092597</td>\n",
       "      <td>1.257851</td>\n",
       "    </tr>\n",
       "    <tr>\n",
       "      <th>26</th>\n",
       "      <td>3.493487</td>\n",
       "      <td>4.370798</td>\n",
       "    </tr>\n",
       "    <tr>\n",
       "      <th>27</th>\n",
       "      <td>1.940321</td>\n",
       "      <td>0.935966</td>\n",
       "    </tr>\n",
       "    <tr>\n",
       "      <th>28</th>\n",
       "      <td>3.818017</td>\n",
       "      <td>4.193769</td>\n",
       "    </tr>\n",
       "    <tr>\n",
       "      <th>29</th>\n",
       "      <td>-1.027174</td>\n",
       "      <td>-2.185852</td>\n",
       "    </tr>\n",
       "    <tr>\n",
       "      <th>...</th>\n",
       "      <td>...</td>\n",
       "      <td>...</td>\n",
       "    </tr>\n",
       "    <tr>\n",
       "      <th>270</th>\n",
       "      <td>2.682841</td>\n",
       "      <td>-1.649558</td>\n",
       "    </tr>\n",
       "    <tr>\n",
       "      <th>271</th>\n",
       "      <td>3.853769</td>\n",
       "      <td>4.276028</td>\n",
       "    </tr>\n",
       "    <tr>\n",
       "      <th>272</th>\n",
       "      <td>-2.738852</td>\n",
       "      <td>0.717617</td>\n",
       "    </tr>\n",
       "    <tr>\n",
       "      <th>273</th>\n",
       "      <td>-0.283880</td>\n",
       "      <td>-7.209544</td>\n",
       "    </tr>\n",
       "    <tr>\n",
       "      <th>274</th>\n",
       "      <td>0.528218</td>\n",
       "      <td>-0.513015</td>\n",
       "    </tr>\n",
       "    <tr>\n",
       "      <th>275</th>\n",
       "      <td>3.740809</td>\n",
       "      <td>5.224275</td>\n",
       "    </tr>\n",
       "    <tr>\n",
       "      <th>276</th>\n",
       "      <td>-0.309169</td>\n",
       "      <td>-4.934582</td>\n",
       "    </tr>\n",
       "    <tr>\n",
       "      <th>277</th>\n",
       "      <td>3.958692</td>\n",
       "      <td>4.643620</td>\n",
       "    </tr>\n",
       "    <tr>\n",
       "      <th>278</th>\n",
       "      <td>-3.615807</td>\n",
       "      <td>2.297616</td>\n",
       "    </tr>\n",
       "    <tr>\n",
       "      <th>279</th>\n",
       "      <td>3.356095</td>\n",
       "      <td>2.517255</td>\n",
       "    </tr>\n",
       "    <tr>\n",
       "      <th>280</th>\n",
       "      <td>-3.047902</td>\n",
       "      <td>0.945040</td>\n",
       "    </tr>\n",
       "    <tr>\n",
       "      <th>281</th>\n",
       "      <td>1.156914</td>\n",
       "      <td>-4.067928</td>\n",
       "    </tr>\n",
       "    <tr>\n",
       "      <th>282</th>\n",
       "      <td>-0.048486</td>\n",
       "      <td>-5.016092</td>\n",
       "    </tr>\n",
       "    <tr>\n",
       "      <th>283</th>\n",
       "      <td>2.206951</td>\n",
       "      <td>-1.592910</td>\n",
       "    </tr>\n",
       "    <tr>\n",
       "      <th>284</th>\n",
       "      <td>-2.683573</td>\n",
       "      <td>2.669933</td>\n",
       "    </tr>\n",
       "    <tr>\n",
       "      <th>285</th>\n",
       "      <td>1.158877</td>\n",
       "      <td>-5.428157</td>\n",
       "    </tr>\n",
       "    <tr>\n",
       "      <th>286</th>\n",
       "      <td>3.892099</td>\n",
       "      <td>3.834179</td>\n",
       "    </tr>\n",
       "    <tr>\n",
       "      <th>287</th>\n",
       "      <td>-0.703505</td>\n",
       "      <td>-3.286421</td>\n",
       "    </tr>\n",
       "    <tr>\n",
       "      <th>288</th>\n",
       "      <td>-0.009489</td>\n",
       "      <td>-3.861777</td>\n",
       "    </tr>\n",
       "    <tr>\n",
       "      <th>289</th>\n",
       "      <td>2.235915</td>\n",
       "      <td>0.737958</td>\n",
       "    </tr>\n",
       "    <tr>\n",
       "      <th>290</th>\n",
       "      <td>-2.693086</td>\n",
       "      <td>1.983691</td>\n",
       "    </tr>\n",
       "    <tr>\n",
       "      <th>291</th>\n",
       "      <td>-2.273489</td>\n",
       "      <td>-2.386296</td>\n",
       "    </tr>\n",
       "    <tr>\n",
       "      <th>292</th>\n",
       "      <td>-3.203399</td>\n",
       "      <td>0.695507</td>\n",
       "    </tr>\n",
       "    <tr>\n",
       "      <th>293</th>\n",
       "      <td>-1.294125</td>\n",
       "      <td>-1.607502</td>\n",
       "    </tr>\n",
       "    <tr>\n",
       "      <th>294</th>\n",
       "      <td>-0.536724</td>\n",
       "      <td>-4.984650</td>\n",
       "    </tr>\n",
       "    <tr>\n",
       "      <th>295</th>\n",
       "      <td>2.948932</td>\n",
       "      <td>-0.940941</td>\n",
       "    </tr>\n",
       "    <tr>\n",
       "      <th>296</th>\n",
       "      <td>3.755833</td>\n",
       "      <td>4.392722</td>\n",
       "    </tr>\n",
       "    <tr>\n",
       "      <th>297</th>\n",
       "      <td>3.139360</td>\n",
       "      <td>0.680950</td>\n",
       "    </tr>\n",
       "    <tr>\n",
       "      <th>298</th>\n",
       "      <td>0.326764</td>\n",
       "      <td>-2.176878</td>\n",
       "    </tr>\n",
       "    <tr>\n",
       "      <th>299</th>\n",
       "      <td>2.803304</td>\n",
       "      <td>-4.112557</td>\n",
       "    </tr>\n",
       "  </tbody>\n",
       "</table>\n",
       "<p>300 rows × 2 columns</p>\n",
       "</div>"
      ],
      "text/plain": [
       "            x         y\n",
       "0   -1.809264 -3.193143\n",
       "1   -2.052769 -4.197102\n",
       "2    2.642235 -2.725068\n",
       "3   -1.949070 -5.047449\n",
       "4    3.506515  2.758897\n",
       "5   -2.340561 -1.802808\n",
       "6    3.593741  4.958850\n",
       "7   -0.732412 -4.846446\n",
       "8    0.400804 -2.538593\n",
       "9    3.873790  3.396949\n",
       "10   1.186902 -4.637137\n",
       "11   3.883055  4.278784\n",
       "12  -3.891079  3.552485\n",
       "13  -0.414239 -6.401744\n",
       "14   0.540289 -1.307924\n",
       "15   2.504604 -1.897083\n",
       "16   3.898011  5.010975\n",
       "17   2.336695 -1.115576\n",
       "18   0.771023 -4.022955\n",
       "19  -0.569178 -5.669529\n",
       "20   2.016319  0.228151\n",
       "21  -1.797723 -3.659637\n",
       "22   3.122867  0.979020\n",
       "23   1.043554 -5.668747\n",
       "24   1.951903  0.033878\n",
       "25   3.092597  1.257851\n",
       "26   3.493487  4.370798\n",
       "27   1.940321  0.935966\n",
       "28   3.818017  4.193769\n",
       "29  -1.027174 -2.185852\n",
       "..        ...       ...\n",
       "270  2.682841 -1.649558\n",
       "271  3.853769  4.276028\n",
       "272 -2.738852  0.717617\n",
       "273 -0.283880 -7.209544\n",
       "274  0.528218 -0.513015\n",
       "275  3.740809  5.224275\n",
       "276 -0.309169 -4.934582\n",
       "277  3.958692  4.643620\n",
       "278 -3.615807  2.297616\n",
       "279  3.356095  2.517255\n",
       "280 -3.047902  0.945040\n",
       "281  1.156914 -4.067928\n",
       "282 -0.048486 -5.016092\n",
       "283  2.206951 -1.592910\n",
       "284 -2.683573  2.669933\n",
       "285  1.158877 -5.428157\n",
       "286  3.892099  3.834179\n",
       "287 -0.703505 -3.286421\n",
       "288 -0.009489 -3.861777\n",
       "289  2.235915  0.737958\n",
       "290 -2.693086  1.983691\n",
       "291 -2.273489 -2.386296\n",
       "292 -3.203399  0.695507\n",
       "293 -1.294125 -1.607502\n",
       "294 -0.536724 -4.984650\n",
       "295  2.948932 -0.940941\n",
       "296  3.755833  4.392722\n",
       "297  3.139360  0.680950\n",
       "298  0.326764 -2.176878\n",
       "299  2.803304 -4.112557\n",
       "\n",
       "[300 rows x 2 columns]"
      ]
     },
     "execution_count": 3,
     "metadata": {},
     "output_type": "execute_result"
    }
   ],
   "source": [
    "# Put your code here\n",
    "import pandas as pd\n",
    "import numpy as np\n",
    "import matplotlib.pyplot as plt\n",
    "from IPython.display import Image\n",
    "\n",
    "mys=pd.read_csv('mystery.csv', names=['x','y'])\n",
    "mys"
   ]
  },
  {
   "cell_type": "markdown",
   "metadata": {},
   "source": [
    "**Question 2 (4 points)**: Now that you've loaded in the data, make a plot that shows how `y` changes as a function of `x`. You should make sure to format your plot so that it's easy to see the relationship between `x` abd `y`. You should also include useful things like axis labels! (Also, feel free to use seaborne if you want to change the overall look of your plot)."
   ]
  },
  {
   "cell_type": "code",
   "execution_count": 5,
   "metadata": {},
   "outputs": [
    {
     "data": {
      "text/plain": [
       "Text(0.5, 1.0, 'Y changing with function of X')"
      ]
     },
     "execution_count": 5,
     "metadata": {},
     "output_type": "execute_result"
    },
    {
     "data": {
      "image/png": "[encoded data removed]",
      "text/plain": [
       "<Figure size 432x432 with 3 Axes>"
      ]
     },
     "metadata": {
      "needs_background": "light"
     },
     "output_type": "display_data"
    }
   ],
   "source": [
    "# Put your code here\n",
    "import seaborn\n",
    "\n",
    "seaborn.jointplot(mys['x'],mys['y'])\n",
    "plt.xlabel('x')\n",
    "plt.ylabel('y')\n",
    "plt.title('Y changing with function of X')"
   ]
  },
  {
   "cell_type": "markdown",
   "metadata": {},
   "source": [
    "**Question 3 (2 points)**: Before you start trying to fit any sort of models, what features do you see in the data? Describe any patterns or large scale behavior you notice in the data."
   ]
  },
  {
   "cell_type": "markdown",
   "metadata": {},
   "source": [
    "<font size=20>&#9998;</font> *Put your answer here.*"
   ]
  },
  {
   "cell_type": "markdown",
   "metadata": {},
   "source": [
    "**Question 4 (8 points)**: Clearly a line doesn't seem like a good choice to model the properties of this dataset. However, a second order polynomial might be a good fit!\n",
    "\n",
    "Now do the following:\n",
    "\n",
    "1. Use NumPy's `polyfit` function to fit a polynomial of degree 2 to the data.\n",
    "2. Use `poly1d` to create a function that can be used to plot the best fit curve on top of the data.\n",
    "3. Generate 200 evenly spaced values between -4 and 4 and store those in a new variable called `x_model`\n",
    "4. Plot the data and then overplot the `y_model` values that correspond to the `x_model` values you just created. You should be able to use the function you created using `poly1d` to do this!"
   ]
  },
  {
   "cell_type": "code",
   "execution_count": 6,
   "metadata": {},
   "outputs": [
    {
     "data": {
      "text/plain": [
       "Text(0.5, 1.0, 'Polynomial of degree 2 to the data')"
      ]
     },
     "execution_count": 6,
     "metadata": {},
     "output_type": "execute_result"
    },
    {
     "data": {
      "image/png": "[encoded data removed]",
      "text/plain": [
       "<Figure size 720x360 with 1 Axes>"
      ]
     },
     "metadata": {
      "needs_background": "light"
     },
     "output_type": "display_data"
    }
   ],
   "source": [
    "# Put your code here\n",
    "x = mys['x']\n",
    "y = mys['y']\n",
    "\n",
    "x_model = np.linspace(-4,4,200)\n",
    "plt.figure(figsize=(10,5))\n",
    "\n",
    "polyfit = np.polyfit(x,y,2)g\n",
    "y_model = np.poly1d(polyfit)\n",
    "\n",
    "plt.plot(x_model,y_model(x_model),color='red')\n",
    "plt.scatter(x,y)\n",
    "plt.xlabel('x')\n",
    "plt.ylabel('y')\n",
    "plt.title('Polynomial of degree 2 to the data')"
   ]
  },
  {
   "cell_type": "markdown",
   "metadata": {},
   "source": [
    "**Question 5 (4 points)**: How well does this model appear to fit the data? What are the best fit parameters for this model? **Make sure to print them out**. Are there features that still aren't captured by this model? If so, comment on which features these are."
   ]
  },
  {
   "cell_type": "code",
   "execution_count": 7,
   "metadata": {
    "scrolled": true
   },
   "outputs": [
    {
     "name": "stdout",
     "output_type": "stream",
     "text": [
      "        2\n",
      "0.5089 x + 0.12 x - 3.888\n"
     ]
    }
   ],
   "source": [
    "print(y_model)"
   ]
  },
  {
   "cell_type": "markdown",
   "metadata": {},
   "source": [
    "It fits ok for this model. It has crossed the trend of the scatter pots.\n",
    "The best parameters for this model are 0.5089,0.12,3.888.\n",
    "#__!!!!!!!!!!!!!!Are there features that still aren't captured by this model? If so, comment on which features these are.__"
   ]
  },
  {
   "cell_type": "markdown",
   "metadata": {},
   "source": [
    "**Question 6 (4 points)**: Would a higher order polynomial fit the data better? Try fitting higher order polynomials and decide which one you think provides the \"best\" overall fit to the data. **Defend your choice below!**\n",
    "\n",
    "*Note*: you may have to experiment a higher order polynomial than you might have ever previously tried! This is where `poly1d()` really comes in handy!"
   ]
  },
  {
   "cell_type": "code",
   "execution_count": 137,
   "metadata": {},
   "outputs": [
    {
     "data": {
      "text/plain": [
       "Text(0.5, 1.0, 'Polynomial of degree 30 to the data')"
      ]
     },
     "execution_count": 137,
     "metadata": {},
     "output_type": "execute_result"
    },
    {
     "data": {
      "image/png": "[encoded data removed]",
      "text/plain": [
       "<Figure size 720x360 with 1 Axes>"
      ]
     },
     "metadata": {
      "needs_background": "light"
     },
     "output_type": "display_data"
    }
   ],
   "source": [
    "# Put your code here\n",
    "x = mys['x']\n",
    "y = mys['y']\n",
    "\n",
    "x_model = np.linspace(-4,4,200)\n",
    "plt.figure(figsize=(10,5))\n",
    "\n",
    "polyfit = np.polyfit(x,y,30)\n",
    "y_model = np.poly1d(polyfit)\n",
    "\n",
    "plt.plot(x_model,y_model(x_model),color='red')\n",
    "plt.scatter(x,y)\n",
    "plt.xlabel('x')\n",
    "plt.ylabel('y')\n",
    "plt.title('Polynomial of degree 30 to the data')"
   ]
  },
  {
   "cell_type": "code",
   "execution_count": 9,
   "metadata": {},
   "outputs": [
    {
     "name": "stdout",
     "output_type": "stream",
     "text": [
      "          30             29             28             27\n",
      "2.76e-11 x  - 1.727e-11 x  - 3.251e-09 x  + 1.897e-09 x \n",
      "              26             25             24             23\n",
      " + 1.713e-07 x  - 9.423e-08 x  - 5.336e-06 x  + 2.804e-06 x \n",
      "              22             21           20             19\n",
      " + 0.0001091 x  - 5.569e-05 x  - 0.00154 x  + 0.0007783 x \n",
      "            18            17          16           15          14\n",
      " + 0.01535 x  - 0.007847 x  - 0.1088 x  + 0.05733 x  + 0.5434 x \n",
      "           13         12         11         10         9         8\n",
      " - 0.2976 x  - 1.871 x  + 1.027 x  + 4.245 x  - 1.858 x - 5.818 x\n",
      "           7         6         5          4         3          2\n",
      " - 0.8055 x + 3.904 x + 11.39 x - 0.3919 x - 18.67 x + 0.1438 x + 7.655 x - 3.767\n"
     ]
    }
   ],
   "source": [
    "print(y_model)"
   ]
  },
  {
   "cell_type": "markdown",
   "metadata": {},
   "source": [
    "<font size=20>&#9998;</font> Higher order polynomial fits better with the data. It is not just a single line that goes through the scatter pots, but it's going through every part of scatter pots and fits with the shape scatter pots. The higher the order, the better the fitting."
   ]
  },
  {
   "cell_type": "markdown",
   "metadata": {},
   "source": [
    "**Question 7 (8 points)**: Although you might have been able to get a decent fit to the data using a higher order polynomial, it seem like such a polynomial is an overly complex way of fitting the data. Instead of just experimenting with `polyfit`, it might make more sense to use SciPy's `curve_fit` to fit a simple model to the data.\n",
    "\n",
    "As you've hopefully noticed at this point, the second order polynomial seemed to do a good job of fitting the large scale behavior of the data, but there also appears to be a periodic signal in the data as well.\n",
    "\n",
    "**Define a new function that combines a second order polynomial and a sinusoidal function and use `curve_fit` to find the best fit parameters for this new function.**\n",
    "\n",
    "*Hint*: You may need to experiment with the `p0` parameters that you can feed into `curve_fit` to get a model that captures in the \"wiggles\" in the dataset."
   ]
  },
  {
   "cell_type": "code",
   "execution_count": 129,
   "metadata": {},
   "outputs": [],
   "source": [
    "# An important import command!\n",
    "from scipy.optimize import curve_fit\n",
    "\n",
    "# Put your code here\n",
    "def p(x,A,B,C,D):\n",
    "    return A*x**2+B*np.sin(C*x)+D"
   ]
  },
  {
   "cell_type": "code",
   "execution_count": 130,
   "metadata": {},
   "outputs": [
    {
     "name": "stdout",
     "output_type": "stream",
     "text": [
      "[ 0.49530688  1.97425076  4.01700563 -3.75901727]\n"
     ]
    }
   ],
   "source": [
    "j,b=curve_fit(p,mys['x'],mys['y'],p0=[1,1,4,1])\n",
    "print(j)"
   ]
  },
  {
   "cell_type": "code",
   "execution_count": 131,
   "metadata": {},
   "outputs": [
    {
     "data": {
      "text/plain": [
       "[<matplotlib.lines.Line2D at 0x1a203b4a20>]"
      ]
     },
     "execution_count": 131,
     "metadata": {},
     "output_type": "execute_result"
    },
    {
     "data": {
      "image/png": "[encoded data removed]",
      "text/plain": [
       "<Figure size 720x360 with 1 Axes>"
      ]
     },
     "metadata": {
      "needs_background": "light"
     },
     "output_type": "display_data"
    }
   ],
   "source": [
    "plt.figure(figsize=(10,5))\n",
    "\n",
    "x_model = np.linspace(-4,4,200)\n",
    "y_sin=p(x_model,j[0],j[1],j[2],j[3])\n",
    "plt.scatter(mys['x'],mys['y'],label='mys')\n",
    "\n",
    "plt.plot(x_model,y_sin,color='red',label='fit')\n",
    "\n"
   ]
  },
  {
   "cell_type": "markdown",
   "metadata": {},
   "source": [
    "**Question 8 (2 points)**: Were you able to get a better looking fit for the model? How do your best fit parameters from `curve_fit` compare to the best fit parameters from your second order polynomial fit? Are any of them roughly the same? If so, discuss whether or not this what you would expect."
   ]
  },
  {
   "cell_type": "markdown",
   "metadata": {},
   "source": [
    "<font size=20>&#9998;</font> *Put your answer here.*\n",
    "\n",
    "I was able to get a better looking fit for the model.Comparing with the second order polynomial fit, clearly the one that is from curve fit is doing a better job. It fits so much perfect than the second order polynomial fit does. We can say that they are roughly the same because they are following the rough curve trending. This can be said is what I expected, but I would prefer more fitting on the curves."
   ]
  },
  {
   "cell_type": "markdown",
   "metadata": {},
   "source": [
    "---\n",
    "### Pushing further with MCMC\n",
    "\n",
    "At this point, you feel like you've done a good job of fitting the data, but you'd really like to make sure you've got the best possible fit for some of your parameters. To do this, you're going to use a Markov Chain Monte Carlo (MCMC) approach. Although you could try using MCMC to calculate best fit values for _all_ of your parameters, you're going to limit your search to **just two** of the parameters in your model to keep things simple.\n",
    "\n",
    "**Question 9 (1 point)**: Using your model from Question 7, you're going to pick **two** of the model parameters to explore with an MCMC approach and you will *leave all other parameters fixed* based on your results from Question 7. **State which two of your parameters you will be trying to fit with MCMC:**"
   ]
  },
  {
   "cell_type": "markdown",
   "metadata": {},
   "source": [
    "<font size=20>&#9998;</font> *Which two parameters are you going to try and fit? Answer that here.*\n",
    "\n",
    "I will choose parameter C and B"
   ]
  },
  {
   "cell_type": "markdown",
   "metadata": {},
   "source": [
    "**Question 10 (1 point)**: Now, in order to use $\\chi^2$ as our \"cost function\" for computing the goodness of fit, we also need to have an estimate of the error bars on our data points. Since we don't exactly know where the data came from, or what the \"right\" error bars should be, let's assume that the error for each point is 10% of its value. **Define a new array, `sigma` that is equal to 10% of the original `y` array in the dataset.** "
   ]
  },
  {
   "cell_type": "code",
   "execution_count": 135,
   "metadata": {},
   "outputs": [
    {
     "data": {
      "text/plain": [
       "0     -0.319314\n",
       "1     -0.419710\n",
       "2     -0.272507\n",
       "3     -0.504745\n",
       "4      0.275890\n",
       "5     -0.180281\n",
       "6      0.495885\n",
       "7     -0.484645\n",
       "8     -0.253859\n",
       "9      0.339695\n",
       "10    -0.463714\n",
       "11     0.427878\n",
       "12     0.355249\n",
       "13    -0.640174\n",
       "14    -0.130792\n",
       "15    -0.189708\n",
       "16     0.501098\n",
       "17    -0.111558\n",
       "18    -0.402296\n",
       "19    -0.566953\n",
       "20     0.022815\n",
       "21    -0.365964\n",
       "22     0.097902\n",
       "23    -0.566875\n",
       "24     0.003388\n",
       "25     0.125785\n",
       "26     0.437080\n",
       "27     0.093597\n",
       "28     0.419377\n",
       "29    -0.218585\n",
       "         ...   \n",
       "270   -0.164956\n",
       "271    0.427603\n",
       "272    0.071762\n",
       "273   -0.720954\n",
       "274   -0.051301\n",
       "275    0.522427\n",
       "276   -0.493458\n",
       "277    0.464362\n",
       "278    0.229762\n",
       "279    0.251725\n",
       "280    0.094504\n",
       "281   -0.406793\n",
       "282   -0.501609\n",
       "283   -0.159291\n",
       "284    0.266993\n",
       "285   -0.542816\n",
       "286    0.383418\n",
       "287   -0.328642\n",
       "288   -0.386178\n",
       "289    0.073796\n",
       "290    0.198369\n",
       "291   -0.238630\n",
       "292    0.069551\n",
       "293   -0.160750\n",
       "294   -0.498465\n",
       "295   -0.094094\n",
       "296    0.439272\n",
       "297    0.068095\n",
       "298   -0.217688\n",
       "299   -0.411256\n",
       "Name: y, Length: 300, dtype: float64"
      ]
     },
     "execution_count": 135,
     "metadata": {},
     "output_type": "execute_result"
    }
   ],
   "source": [
    "# Put your code here\n",
    "sigma=mys['y']*0.1\n",
    "sigma"
   ]
  },
  {
   "cell_type": "markdown",
   "metadata": {},
   "source": [
    "**Question 11 (12 points)**: At this point we need to implement the MCMC algorithm to explore parameter space for the **two free parameters** that you chose in Question 9.\n",
    "\n",
    "**All of your other parameters should be set to constants and you should use the values that came out of your best fit from Question 7**. For example, if you had a parameter `A` and the best fit value was 8.25 then you should set `A = 8.25` and use that in your model when doing the MCMC search for finding the best fit values for your two free parameters.\n",
    "\n",
    "As a reminder, the equation for $\\chi^2$ error is like so:\n",
    "\n",
    "$$ \\chi_R^2 = \\frac{1}{N_{pts}}\\sum_i \\frac{(y_{data,i} - y_{model,i})^2}{2 \\sigma_i^2} $$\n",
    "\n",
    "The function for calculating this error is provided for you in the cell below (and cleverly called `calculate_error`)\n",
    "\n",
    "#### Implementing the MCMC algorithm \n",
    "\n",
    "Using the Day 20 in-class assignment as a guide, you should now try to implement the MCMC algorithm to find the best fit for your two free parameters (part of the Day 20 notebook is also included for reference at the end of this notebook).\n",
    "\n",
    "You should take **$n = 100000$** steps and use a step size of **0.05**. Remember, you can use your function from Question 7 to compute your model values!\n",
    "\n",
    "**Upon completing the search, you should make the following plots**:\n",
    "\n",
    "1. A plot of where your random walker \"walked\" in parameter space while it tried to find the best fit values (you can try starting your walker whever you want, but if you get strange results, it might be because you started the walker too far away). Your plot should basically be of \"parameter 2\" vs \"parameter 1\" as the walker walked for whatever your two parameters are.\n",
    "1. A 2D histogram and contour plot that highlights where the best fit parameters are.\n",
    "\n",
    "Finally, **you should print the best fit values and comment on how they compare to the values you found using `curve_fit`.**\n"
   ]
  },
  {
   "cell_type": "code",
   "execution_count": 138,
   "metadata": {},
   "outputs": [],
   "source": [
    "def calculate_error(ys_actual, ys_model, sigma):\n",
    "    \"\"\"\n",
    "    Calculate the chi-squared error between two sets of data\n",
    "    \"\"\"\n",
    "    return ((ys_actual-ys_model)**2/(2*sigma**2)).sum()/(ys_actual.size)"
   ]
  },
  {
   "cell_type": "code",
   "execution_count": null,
   "metadata": {},
   "outputs": [],
   "source": [
    "# Put all of the code necessary for implementing your MCMC search for the best fit parameters and visualizing the results.\n",
    "# You may wish to create additional cells as necessary\n",
    "ys_actual=1\n",
    "ys_model=2\n",
    "sigma=3"
   ]
  },
  {
   "cell_type": "markdown",
   "metadata": {},
   "source": [
    "<font size=20>&#9998;</font> What are you best fit parameters? How do these compare to the values that `curve_fit` found?\n",
    "\n",
    "*Put your answer here.*"
   ]
  },
  {
   "cell_type": "markdown",
   "metadata": {},
   "source": [
    "---\n",
    "## Assignment wrap-up\n",
    "\n",
    "Please fill out the form that appears when you run the code below.  "
   ]
  },
  {
   "cell_type": "code",
   "execution_count": null,
   "metadata": {},
   "outputs": [],
   "source": [
    "from IPython.display import HTML\n",
    "HTML(\n",
    "\"\"\"\n",
    "<iframe \n",
    "\tsrc=\"https://forms.gle/zw3MaBYJWhY9XHrA7\" \n",
    "\twidth=\"800px\" \n",
    "\theight=\"600px\" \n",
    "\tframeborder=\"0\" \n",
    "\tmarginheight=\"0\" \n",
    "\tmarginwidth=\"0\">\n",
    "\tLoading...\n",
    "</iframe>\n",
    "\"\"\"\n",
    ")"
   ]
  },
  {
   "cell_type": "markdown",
   "metadata": {},
   "source": [
    "---\n",
    "\n",
    "### Congratulations, you're done!\n",
    "\n",
    "Submit this assignment by uploading it to the course Desire2Learn web page.  Go to the \"Homework Assignments\" folder, find the submission link for Homework #6, and upload it there."
   ]
  },
  {
   "cell_type": "markdown",
   "metadata": {},
   "source": [
    "---\n",
    "---\n",
    "---\n"
   ]
  },
  {
   "cell_type": "markdown",
   "metadata": {},
   "source": [
    "# Markov Chain Monte Carlo fitting\n",
    "\n",
    "## How it works\n",
    "\n",
    "The general idea behind MCMC fitting of our data is that we will start from a guess at our model parameters and \"walk\" in random directions in parameter space in a way that **on average gets us closer to the best fit to the data.**  We keep track of the points that we’ve sampled over time (we call this the \"trace\" of the data), and use those to create a distribution.  The distribution shows us how likely each set of model parameters is to fit the data.\n",
    "\n",
    "We’re going to think about how this works using the model from our pre-class assignment as an example.\n",
    "Specifically, you’re going to revisit fitting data of the form\n",
    "\n",
    "$$\n",
    "   f(x) = W x^2 + I\n",
    "$$\n",
    "\n",
    "by intelligently searching for optimal $W$ and $I$ (_width_ and _intercept_ of the parabola) values. Specifically, Metropolis-Hastings fitting consists of these steps:\n",
    "\n",
    "1. Start with an initial guess of the model parameters, $(W_0, I_0)$.\n",
    "2. Calculate $\\chi_0^2$ for this initial guess.\n",
    "\n",
    "Then, the following occurs in a loop over specified number of steps:\n",
    "\n",
    "3. Take a (potential) \"step\" from $(W_0, I_0)$ in a random direction to produce $(W_1, I_1)$\n",
    "4. Calculate the the [\"reduced chi-squared\"](https://en.wikipedia.org/wiki/Reduced_chi-squared_statistic) values (as done in the pre-class), $\\chi_0^2$ and $\\chi_1^2$, for the parabolas defined by $(W_0, I_0)$ and $(W_1, I_1)$.\n",
    "5. Calculate an acceptance probability, $P = e^{-\\chi_1^2}/e^{-\\chi_0^2}$, as the ratio of two *likelihood functions* (the exponentials).\n",
    "6. Uniformly generate a random number $r \\in [0, 1)$. If $r < P$, \"accept\" $(W_1, I_1)$ as the next initial guess and assign $\\chi_0^2$=$\\chi_1^2$. Otherwise, discard $(W_1, I_1)$ and generate a new potential step from $(W_0, I_0)$.\n",
    "7. Repeat this process until you’ve generated as many points as you care to (100000 isn’t bad).\n",
    "\n",
    "### Notes:\n",
    "\n",
    "* The Markov-chain part of Markov-chain Monte Carlo means \"the next step only depends on the current step.\"\n",
    "* If $\\chi_1^2 < \\chi_0^2$ (i.e. the error from $(W_1, I_1)$ is less than the error from $(W_0, I_0)$), then $P > 1$ and the new point is _always_ accepted.\n",
    "* By keeping track of the valid steps, we can chart the progress of a \"walker\" as it (hopefully!) moves towards a set of optimum values. The walker will tend to stay in the region of good fit but its wandering will inform on the range of likely values.\n",
    "* The randomness here _usually_ prevents walkers from moving in sub-optimal (higher-error) directions but occasionally allows it to happen in hopes of finding even lower error zones."
   ]
  }
 ],
 "metadata": {
  "kernelspec": {
   "display_name": "Python 3",
   "language": "python",
   "name": "python3"
  },
  "language_info": {
   "codemirror_mode": {
    "name": "ipython",
    "version": 3
   },
   "file_extension": ".py",
   "mimetype": "text/x-python",
   "name": "python",
   "nbconvert_exporter": "python",
   "pygments_lexer": "ipython3",
   "version": "3.7.4"
  }
 },
 "nbformat": 4,
 "nbformat_minor": 4
}
